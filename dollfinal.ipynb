{
 "cells": [
  {
   "cell_type": "code",
   "execution_count": 597,
   "metadata": {},
   "outputs": [],
   "source": [
    "import cv2\n"
   ]
  },
  {
   "cell_type": "code",
   "execution_count": 598,
   "metadata": {},
   "outputs": [],
   "source": [
    "import numpy"
   ]
  },
  {
   "cell_type": "code",
   "execution_count": 599,
   "metadata": {},
   "outputs": [],
   "source": [
    "photo=numpy.zeros((1200,700,3),dtype=numpy.uint8)"
   ]
  },
  {
   "cell_type": "code",
   "execution_count": 600,
   "metadata": {},
   "outputs": [],
   "source": [
    "#face\n",
    "face=cv2.circle(photo,(300,200),100,[220,248,255],-1)\n",
    "#eyes\n",
    "first_eye=cv2.circle(photo,(250,170),15,[0,0,0],-1)\n",
    "second_eye=cv2.circle(photo,(350,170),15,[0,0,0],-1)\n",
    "#body\n",
    "body=cv2.ellipse(photo,(300,450),(100,150),0,0,360,[220,248,255],-1)\n",
    "#ears\n",
    "ear1=cv2.circle(photo,(220,110),40,[220,248,255],-1)\n",
    "ear1_in=cv2.circle(photo,(220,110),20,[0,0,0],-1)\n",
    "ear2=cv2.circle(photo,(380,110),40,[220,248,255],-1)\n",
    "ear2_in=cv2.circle(photo,(380,110),20,[0,0,0],-1)\n",
    "#hands\n",
    "hand1=cv2.ellipse(photo,(180,430),(20,60),0,0,360,[220,248,255],-1)\n",
    "hand2=cv2.ellipse(photo,(420,430),(20,60),0,0,360,[220,248,255],-1)\n",
    "#mouth\n",
    "mouth=cv2.line(photo,(285,250),(315,250),[0,0,0],5)\n",
    "#legs\n",
    "leg1=cv2.circle(photo,(220,580),45,[220,248,255],-1)\n",
    "leg1_in=cv2.circle(photo,(220,580),30,[0,0,0],-1)\n",
    "leg2=cv2.circle(photo,(380,580),45,[220,248,255],-1)\n",
    "leg2_in=cv2.circle(photo,(380,580),30,[0,0,0],-1)\n",
    "cv2.imshow(\"face\",photo)\n",
    "cv2.waitKey(0)\n",
    "cv2.destroyAllWindows()\n",
    "\n"
   ]
  },
  {
   "cell_type": "code",
   "execution_count": null,
   "metadata": {},
   "outputs": [],
   "source": []
  },
  {
   "cell_type": "code",
   "execution_count": null,
   "metadata": {},
   "outputs": [],
   "source": []
  },
  {
   "cell_type": "code",
   "execution_count": null,
   "metadata": {},
   "outputs": [],
   "source": []
  }
 ],
 "metadata": {
  "kernelspec": {
   "display_name": "Python 3",
   "language": "python",
   "name": "python3"
  },
  "language_info": {
   "codemirror_mode": {
    "name": "ipython",
    "version": 3
   },
   "file_extension": ".py",
   "mimetype": "text/x-python",
   "name": "python",
   "nbconvert_exporter": "python",
   "pygments_lexer": "ipython3",
   "version": "3.7.6"
  }
 },
 "nbformat": 4,
 "nbformat_minor": 4
}
